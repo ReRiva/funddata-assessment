{
 "cells": [
  {
   "cell_type": "markdown",
   "id": "aac1ee7b",
   "metadata": {},
   "source": [
    "<h3 style=\"color: #001a79;\">Exercise 1</h3>\n",
    "\n",
    "<hr style=\"border-top: 1px solid #001a79;\" />\n",
    "\n",
    "<i h3 style=\"color: #001a79;\">Remember to do these exercises in your own notebook in your assessment repository.</i>\n",
    "\n",
    "It is somewhat interesting that `(5 * 4 * 3 * 2 * 1)` perfectly divides `(10 * 9 * 8 * 7 * 6)` - there's no remainder.\n",
    "\n",
    "If we only wanted exactly four heads as opposed to five, the equivalent calculation would be `(10 * 9 * 8 * 7) / (4 * 3 * 2 * 1)`.\n",
    "\n",
    "Does that evenly divide too? What is the formula in general?\n",
    "\n",
    "Does it always come out as a positive whole number?\n",
    "\n",
    "<hr style=\"border-top: 1px solid #001a79;\" />"
   ]
  },
  {
   "cell_type": "markdown",
   "id": "e256615f",
   "metadata": {},
   "source": [
    "The formula to find the number of possibilities to get 4 heads in 10 coin tosses is :\n",
    "<b>$\\frac{10!}{4!(10-4)!}$</b> which after solving will become <b>$\\frac{10!}{4!(6!)}$</b>. That is the same as <b>$\\frac{10 * 9 * 8 * 7 * 6!}{4 * 3 * 2 * 1*(6!)}$</b>, dividig the 6! in the numerator and denominator will leave us with <b>$\\frac{10 * 9 * 8 * 7}{4 * 3 * 2 * 1}$</b>, which reduces to <b>$\\frac{5040}{24}$</b> which is equal to 210 possibilities.\n",
    "\n",
    "\n",
    "\n",
    "\n",
    "The formula used to find the number of probability to get 4 heads in 10 coin tosses is the following: [Markdown Reference](https://csrgxtu.github.io/2015/03/20/Writing-Mathematic-Fomulars-in-Markdown/#:~:text=Fractions%20and%20Binomials&text=%5Cfrac%7Bn!%7D%7B)\n",
    "\n",
    "<b>$\\frac{n!}{(n-x)!x!}.(p)^x.q^{n-x}$</b> where, n is the number of experiments, x is the result that we want to achieve (in this case, getting 4 heads) p is probability of success in a single experiment, q is probability of failure.\n",
    "\n",
    "If we want to calculate the probability of getting 4 heads in 10 coin tosses:\n",
    "\n",
    "<b>$\\frac{10!}{(10-4)!4!} * (0.5)^4 * (0.5)^{10-4}$</b>.\n",
    "\n"
   ]
  },
  {
   "cell_type": "code",
   "execution_count": 29,
   "id": "957c4f0b",
   "metadata": {},
   "outputs": [
    {
     "name": "stdout",
     "output_type": "stream",
     "text": [
      "The probability of getting 4 heads in 10 coin tosses is:  20.5078125 %\n"
     ]
    }
   ],
   "source": [
    "from math import factorial as fc\n",
    "import matplotlib.pyplot as plt\n",
    "x = 4\n",
    "n = 10\n",
    "p= 0.5\n",
    "q= 0.5\n",
    "\n",
    "prob = fc(n) / (fc(n-x)* fc(x)) * (p**x) * (q**(n-x))\n",
    "\n",
    "\n",
    "\n",
    "print(\"The probability of getting 4 heads in 10 coin tosses is: \", prob*100, \"%\" )"
   ]
  },
  {
   "cell_type": "markdown",
   "id": "b473c3cf",
   "metadata": {},
   "source": [
    "<b>References:</b>\n",
    "\n",
    "[Biominal Formula Reference](https://www.cuemath.com/binomial-distribution-formula/)\n",
    "\n",
    "[Mathematical Expressions Markdown](https://csrgxtu.github.io/2015/03/20/Writing-Mathematic-Fomulars-in-Markdown/#:~:text=Fractions%20and%20Binomials&text=%5Cfrac%7Bn!%7D%7B)"
   ]
  },
  {
   "cell_type": "markdown",
   "id": "15420dbe",
   "metadata": {},
   "source": [
    "<h3 style=\"color: #001a79;\">Exercise 2</h3>\n",
    "\n",
    "<hr style=\"border-top: 1px solid #001a79;\" />\n",
    "\n",
    "\n",
    "Note that there are the same number of ways to get 4 tails as there to get 4 heads. Explain why this is.\n",
    "\n",
    "<hr style=\"border-top: 1px solid #001a79;\" />\n"
   ]
  },
  {
   "cell_type": "markdown",
   "id": "e7aa16ee",
   "metadata": {},
   "source": []
  }
 ],
 "metadata": {
  "kernelspec": {
   "display_name": "Python 3 (ipykernel)",
   "language": "python",
   "name": "python3"
  },
  "language_info": {
   "codemirror_mode": {
    "name": "ipython",
    "version": 3
   },
   "file_extension": ".py",
   "mimetype": "text/x-python",
   "name": "python",
   "nbconvert_exporter": "python",
   "pygments_lexer": "ipython3",
   "version": "3.9.7"
  }
 },
 "nbformat": 4,
 "nbformat_minor": 5
}
