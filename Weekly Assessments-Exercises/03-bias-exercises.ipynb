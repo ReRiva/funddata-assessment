{
 "cells": [
  {
   "cell_type": "markdown",
   "id": "bb66bb6c",
   "metadata": {},
   "source": [
    "### Exercise 1\n",
    "\n",
    "***\n",
    "\n",
    "Give three real-world examples of different types of cognitive bias.\n",
    "\n",
    "***"
   ]
  },
  {
   "cell_type": "markdown",
   "id": "43c24b52",
   "metadata": {},
   "source": [
    "- [Gacha games](https://en.wikipedia.org/wiki/Gacha_game)  - Are a good example of various cognitive bias types, some of them are really easy to see, specially when “rolling” for the character(or item) that you want. The most common one is the Gamble’s fallacy. When you don’t get what you want  and you keep “rolling”(basically gambling, like a slot machine) and each time you fell that you are closer to get the jackpot, because it did not happened for some time, so it is bound to happen soon . And for each consecutive pull you get the false impression that you are closer and closer to get what you want. And if you end up spending a lot of money on it you can fall into the sunk cost fallacy, where you are lead to believe that is your best option to stick with this game, since you spend a lot of money on it and it would be a waste of all the money spent to give up. \n",
    "\n",
    "\n",
    "- A good example of real world bias was/is the discussion about the Covid vaccines side effects or efficacy. People for both side would focus their research and opinions, only on websites and information that already benefit their point of view, for example, someone who is against the vaccine will quote and cite studies that show the side effects of the vaccines and while ignoring studies that show the benefits of it. They will also a gather with people that with like minded people that share the same point of view as them further increasing their confirmation bias. \n",
    "\n",
    "\n",
    "- Another example that deals with cognitive bias, specifically Groupthink bias and also Authority Bias are the [Stanford prison experiment](https://en.wikipedia.org/wiki/Stanford_prison_experiment) and the [Milgram’s experiment](https://en.wikipedia.org/wiki/Milgram_experiment). Which show that people sometimes can disregard critical thinking and follow a group mentality opinion, taking the group opinion as truth and being led to believe that the group opinion is the right one since sepal people think the same way. This also happens with the Authority bias,  when we tend to believe that someone who posses some authority will always have the right opinion because of their authority.  \n"
   ]
  },
  {
   "cell_type": "markdown",
   "id": "2e46dd9a",
   "metadata": {},
   "source": [
    "## Exercise 2\n",
    "\n",
    "***\n",
    "\n",
    "\n",
    "Show that the difference between the standard deviation calculations is greatest for small sample sizes."
   ]
  },
  {
   "cell_type": "markdown",
   "id": "93c2ef5a",
   "metadata": {},
   "source": [
    "This is related with the [Central Limit](https://www.cuemath.com/data/central-limit-theorem/) [Theorem](https://www.youtube.com/watch?v=b8EQbIOq-v8),  because according to it the standard deviation of the sample distribution is equal the standard deviation of the population data divided by the square root of the of the sample size.\n",
    "\n",
    "Sample standard deviation = $\\frac{σ}{\\sqrt{n}}$\n",
    "\n",
    "\n",
    "\n",
    "So because of that if the sample size increases the standard deviation of the sample will decrease, you will be dividing the standard deviation of the population by a higher number, the opposite happens if you decrease the sample size the standard deviation of the sample will increase because you will be dividing the standard deviation the population by a smaller number.\n",
    "\n",
    "Assuming a standard deviation of the pupolation to be 2. The standard deviation of a sample size 9 will be: $\\frac{2}{\\sqrt{9}}$ which is equal to $\\frac{2}{3}$ that is equal to approximately 0.666.\n",
    "\n",
    "If we reduce our sample size to 4, it will be: $\\frac{2}{\\sqrt{4}}$ which is equal to $\\frac{2}{2}$ that is equal to 1.\n"
   ]
  },
  {
   "cell_type": "code",
   "execution_count": null,
   "id": "e3044f6f",
   "metadata": {},
   "outputs": [],
   "source": []
  }
 ],
 "metadata": {
  "kernelspec": {
   "display_name": "Python 3 (ipykernel)",
   "language": "python",
   "name": "python3"
  },
  "language_info": {
   "codemirror_mode": {
    "name": "ipython",
    "version": 3
   },
   "file_extension": ".py",
   "mimetype": "text/x-python",
   "name": "python",
   "nbconvert_exporter": "python",
   "pygments_lexer": "ipython3",
   "version": "3.9.13"
  }
 },
 "nbformat": 4,
 "nbformat_minor": 5
}
